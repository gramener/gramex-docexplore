{
 "cells": [
  {
   "cell_type": "code",
   "execution_count": 1,
   "metadata": {},
   "outputs": [],
   "source": [
    "# I manually created the \"docs\" section of docexplore.json from https://classics.mit.edu/Tzu/artwar.html\n",
    "# Let's load that\n",
    "\n",
    "import json\n",
    "\n",
    "with open(\"docexplore.json\") as handle:\n",
    "    data = json.load(handle)"
   ]
  },
  {
   "cell_type": "code",
   "execution_count": 2,
   "metadata": {},
   "outputs": [],
   "source": [
    "# Set up langchain embeddings\n",
    "import os\n",
    "from langchain.storage.file_system import LocalFileStore\n",
    "from langchain_openai import OpenAIEmbeddings\n",
    "from langchain.embeddings.cache import CacheBackedEmbeddings\n",
    "\n",
    "file_store = LocalFileStore(os.path.expanduser('~/.langchain-embeddings'))\n",
    "base = OpenAIEmbeddings()\n",
    "cached_embeddings = CacheBackedEmbeddings.from_bytes_store(base, file_store, namespace=base.model)"
   ]
  },
  {
   "cell_type": "code",
   "execution_count": 3,
   "metadata": {},
   "outputs": [],
   "source": [
    "# Define classify() and cluster() functions\n",
    "import numpy as np\n",
    "from typing import List\n",
    "from sklearn.cluster import BisectingKMeans\n",
    "from sklearn.metrics import silhouette_score, silhouette_samples\n",
    "\n",
    "\n",
    "def classify(docs: List[str], topics: List[str], **kwargs):\n",
    "    doc_embed = np.array(cached_embeddings.embed_documents(docs))\n",
    "    topic_embed = np.array(cached_embeddings.embed_documents(topics))\n",
    "    return np.dot(doc_embed, topic_embed.T)\n",
    "\n",
    "\n",
    "def cluster(docs: List[str], n: int = 20, **kwargs):\n",
    "    # Cluster the documents\n",
    "    cluster_model = BisectingKMeans(init='k-means++', n_clusters=n, n_init=10, max_iter=1000)\n",
    "    doc_embed = np.array(cached_embeddings.embed_documents(docs))\n",
    "    cluster_model.fit(doc_embed)\n",
    "    # Calculate the distance from each point to each centroid\n",
    "    distances = np.linalg.norm(doc_embed[:, np.newaxis] - cluster_model.cluster_centers_, axis=2)\n",
    "    return {\n",
    "        \"label\": cluster_model.labels_,\n",
    "        \"score\": silhouette_score(doc_embed, cluster_model.labels_),\n",
    "        \"scores\": silhouette_samples(doc_embed, cluster_model.labels_),\n",
    "        \"centroid\": np.argmin(distances, axis=0),\n",
    "    }"
   ]
  },
  {
   "cell_type": "code",
   "execution_count": 4,
   "metadata": {},
   "outputs": [
    {
     "name": "stderr",
     "output_type": "stream",
     "text": [
      "c:\\Users\\Anand\\.conda\\envs\\gramex39\\lib\\site-packages\\sklearn\\cluster\\_bisect_k_means.py:245: UserWarning: BisectingKMeans is known to have a memory leak on Windows with MKL, when there are less chunks than available threads. You can avoid it by setting the environment variable OMP_NUM_THREADS=2.\n",
      "  warnings.warn(\n"
     ]
    }
   ],
   "source": [
    "# Create topics by clustering\n",
    "import pandas as pd\n",
    "docs = pd.DataFrame(data['docs'])\n",
    "result = cluster(docs['para'].tolist(), n=25)\n",
    "docs['cluster'] = result['label']\n",
    "docs['score'] = result['scores']\n",
    "clusters = (\n",
    "    docs.groupby('cluster')\n",
    "    .apply(lambda group: group.nlargest(3, 'score')['para'].tolist())\n",
    "    .tolist()\n",
    ")"
   ]
  },
  {
   "cell_type": "code",
   "execution_count": 6,
   "metadata": {},
   "outputs": [],
   "source": [
    "import json\n",
    "from langchain_openai import ChatOpenAI\n",
    "from langchain.schema import HumanMessage\n",
    "\n",
    "chat_model = ChatOpenAI(model='gpt-4-1106-preview', temperature=0)\n",
    "messages = [\n",
    "    HumanMessage(\n",
    "        content=f'''Here are clusters of paragraphs from The Art of War.\n",
    "Suggest 2-4 word topic names for each cluster.\n",
    "Return a JSON string array of length {len(clusters)}.\n",
    "\n",
    "{json.dumps(clusters, indent=2)}'''\n",
    "    )\n",
    "]"
   ]
  },
  {
   "cell_type": "code",
   "execution_count": 7,
   "metadata": {},
   "outputs": [],
   "source": [
    "# Get the ChatGPT response\n",
    "subtopic_response = chat_model.invoke(messages)"
   ]
  },
  {
   "cell_type": "code",
   "execution_count": 11,
   "metadata": {},
   "outputs": [
    {
     "data": {
      "text/plain": [
       "['Uncelebrated Victory',\n",
       " 'Strategic Calculations',\n",
       " 'Effortless Conquest',\n",
       " 'Military Foundations',\n",
       " \"General's Conduct\",\n",
       " 'Leadership Failures',\n",
       " 'Cost of Warfare',\n",
       " 'Discipline and Punishment',\n",
       " 'Deception and Intelligence',\n",
       " 'Espionage Tactics',\n",
       " 'Infinite Combinations',\n",
       " 'Rejecting Superstition',\n",
       " 'Terrain Strategies',\n",
       " 'Types of Ground',\n",
       " 'Fire Attack Timing',\n",
       " 'Stealth and Speed',\n",
       " 'River Warfare',\n",
       " 'Logistics and Strategy',\n",
       " 'Desperate Troops',\n",
       " 'Marching Dynamics',\n",
       " 'Territorial Strategy',\n",
       " 'Momentum of Force',\n",
       " 'Psychological Warfare',\n",
       " 'Offense and Defense',\n",
       " 'Partial Knowledge']"
      ]
     },
     "execution_count": 11,
     "metadata": {},
     "output_type": "execute_result"
    }
   ],
   "source": [
    "# Extract everything inside ```json ... ```\n",
    "import re\n",
    "\n",
    "match = re.search(r'```json(.*?)```', subtopic_response.content, re.DOTALL)\n",
    "subtopics = json.loads(match.group(1) if match else subtopic_response.content)\n",
    "subtopics"
   ]
  },
  {
   "cell_type": "code",
   "execution_count": 12,
   "metadata": {},
   "outputs": [],
   "source": [
    "# Create higher-level topic groups\n",
    "size = int(len(subtopics) ** 0.5)\n",
    "messages = [\n",
    "    HumanMessage(\n",
    "        content=f'''Cluster these topics into {size} groups.\n",
    "Return a JSON object with keys as a 2-4 word group name and values as arrays of topics.\n",
    "\n",
    "{json.dumps(subtopics, indent=2)}'''\n",
    "    )\n",
    "]"
   ]
  },
  {
   "cell_type": "code",
   "execution_count": 13,
   "metadata": {},
   "outputs": [],
   "source": [
    "# Get the ChatGPT response\n",
    "topic_response = chat_model.invoke(messages)"
   ]
  },
  {
   "cell_type": "code",
   "execution_count": 14,
   "metadata": {},
   "outputs": [
    {
     "data": {
      "text/plain": [
       "{'Warfare Strategies': ['Strategic Calculations',\n",
       "  'Effortless Conquest',\n",
       "  'Terrain Strategies',\n",
       "  'Types of Ground',\n",
       "  'Fire Attack Timing',\n",
       "  'River Warfare',\n",
       "  'Territorial Strategy',\n",
       "  'Momentum of Force',\n",
       "  'Offense and Defense'],\n",
       " 'Military Tactics': ['Deception and Intelligence',\n",
       "  'Espionage Tactics',\n",
       "  'Stealth and Speed',\n",
       "  'Psychological Warfare'],\n",
       " 'Leadership and Command': [\"General's Conduct\",\n",
       "  'Leadership Failures',\n",
       "  'Discipline and Punishment',\n",
       "  'Marching Dynamics'],\n",
       " 'Logistics and Preparation': ['Military Foundations',\n",
       "  'Logistics and Strategy',\n",
       "  'Desperate Troops'],\n",
       " 'Intellectual Approaches': ['Uncelebrated Victory',\n",
       "  'Infinite Combinations',\n",
       "  'Rejecting Superstition',\n",
       "  'Partial Knowledge',\n",
       "  'Cost of Warfare']}"
      ]
     },
     "execution_count": 14,
     "metadata": {},
     "output_type": "execute_result"
    }
   ],
   "source": [
    "match = re.search(r'```json(.*?)```', topic_response.content, re.DOTALL)\n",
    "topics = json.loads(match.group(1) if match else topic_response.content)\n",
    "topics"
   ]
  },
  {
   "cell_type": "code",
   "execution_count": 15,
   "metadata": {},
   "outputs": [],
   "source": [
    "data['topics'] = [\n",
    "    {'topic': topic, 'subtopic': subtopic}\n",
    "    for topic, subtopics in topics.items()\n",
    "    for subtopic in subtopics\n",
    "]"
   ]
  },
  {
   "cell_type": "code",
   "execution_count": 16,
   "metadata": {},
   "outputs": [],
   "source": [
    "# Loop through each row and column in maches and create a {doc, topic, similarity} list\n",
    "min_similarity = 0.75\n",
    "matches = data['matches'] = []\n",
    "similarity = classify(\n",
    "    [row['para'] for row in data['docs']],\n",
    "    [row['subtopic'] for row in data['topics']]\n",
    ")\n",
    "for row in range(len(similarity)):\n",
    "    for col in range(len(similarity[row])):\n",
    "        if similarity[row][col] > min_similarity:\n",
    "            matches.append({'doc': row, 'topic': col, 'similarity': similarity[row][col]})"
   ]
  },
  {
   "cell_type": "code",
   "execution_count": 17,
   "metadata": {},
   "outputs": [],
   "source": [
    "# Save as docexplore.json\n",
    "with open(\"docexplore.json\", \"w\") as handle:\n",
    "    handle.write(json.dumps(data, indent=2))"
   ]
  }
 ],
 "metadata": {
  "kernelspec": {
   "display_name": "gramex39",
   "language": "python",
   "name": "python3"
  },
  "language_info": {
   "codemirror_mode": {
    "name": "ipython",
    "version": 3
   },
   "file_extension": ".py",
   "mimetype": "text/x-python",
   "name": "python",
   "nbconvert_exporter": "python",
   "pygments_lexer": "ipython3",
   "version": "3.11.4"
  }
 },
 "nbformat": 4,
 "nbformat_minor": 2
}
